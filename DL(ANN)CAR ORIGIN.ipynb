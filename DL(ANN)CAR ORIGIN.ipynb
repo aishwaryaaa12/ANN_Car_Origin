{
 "cells": [
  {
   "cell_type": "markdown",
   "id": "8f9adc0d",
   "metadata": {},
   "source": [
    "# Question: Predict Origin of cars using Keras"
   ]
  },
  {
   "cell_type": "markdown",
   "id": "f38dab53",
   "metadata": {},
   "source": [
    "# Import Libraries"
   ]
  },
  {
   "cell_type": "code",
   "execution_count": 25,
   "id": "653c3b3d",
   "metadata": {},
   "outputs": [],
   "source": [
    "from warnings import filterwarnings\n",
    "filterwarnings(\"ignore\")\n",
    "\n",
    "import pandas as pd\n",
    "import numpy as np\n",
    "\n",
    "import seaborn as sns\n",
    "import matplotlib.pyplot as plt"
   ]
  },
  {
   "cell_type": "markdown",
   "id": "ed7df117",
   "metadata": {},
   "source": [
    "# Read Data"
   ]
  },
  {
   "cell_type": "code",
   "execution_count": 2,
   "id": "baeeefc0",
   "metadata": {},
   "outputs": [
    {
     "data": {
      "text/html": [
       "<div>\n",
       "<style scoped>\n",
       "    .dataframe tbody tr th:only-of-type {\n",
       "        vertical-align: middle;\n",
       "    }\n",
       "\n",
       "    .dataframe tbody tr th {\n",
       "        vertical-align: top;\n",
       "    }\n",
       "\n",
       "    .dataframe thead th {\n",
       "        text-align: right;\n",
       "    }\n",
       "</style>\n",
       "<table border=\"1\" class=\"dataframe\">\n",
       "  <thead>\n",
       "    <tr style=\"text-align: right;\">\n",
       "      <th></th>\n",
       "      <th>id</th>\n",
       "      <th>Manufacturer</th>\n",
       "      <th>Model</th>\n",
       "      <th>Type</th>\n",
       "      <th>Min.Price</th>\n",
       "      <th>Price</th>\n",
       "      <th>Max.Price</th>\n",
       "      <th>MPG.city</th>\n",
       "      <th>MPG.highway</th>\n",
       "      <th>AirBags</th>\n",
       "      <th>...</th>\n",
       "      <th>Passengers</th>\n",
       "      <th>Length</th>\n",
       "      <th>Wheelbase</th>\n",
       "      <th>Width</th>\n",
       "      <th>Turn.circle</th>\n",
       "      <th>Rear.seat.room</th>\n",
       "      <th>Luggage.room</th>\n",
       "      <th>Weight</th>\n",
       "      <th>Origin</th>\n",
       "      <th>Make</th>\n",
       "    </tr>\n",
       "  </thead>\n",
       "  <tbody>\n",
       "    <tr>\n",
       "      <th>0</th>\n",
       "      <td>1</td>\n",
       "      <td>Acura</td>\n",
       "      <td>Integra</td>\n",
       "      <td>Small</td>\n",
       "      <td>12.9</td>\n",
       "      <td>15.9</td>\n",
       "      <td>18.8</td>\n",
       "      <td>25</td>\n",
       "      <td>31</td>\n",
       "      <td>None</td>\n",
       "      <td>...</td>\n",
       "      <td>5</td>\n",
       "      <td>177</td>\n",
       "      <td>102</td>\n",
       "      <td>68</td>\n",
       "      <td>37</td>\n",
       "      <td>26.5</td>\n",
       "      <td>11.0</td>\n",
       "      <td>2705</td>\n",
       "      <td>non-USA</td>\n",
       "      <td>Acura Integra</td>\n",
       "    </tr>\n",
       "    <tr>\n",
       "      <th>1</th>\n",
       "      <td>2</td>\n",
       "      <td>Acura</td>\n",
       "      <td>Legend</td>\n",
       "      <td>Midsize</td>\n",
       "      <td>29.2</td>\n",
       "      <td>33.9</td>\n",
       "      <td>38.7</td>\n",
       "      <td>18</td>\n",
       "      <td>25</td>\n",
       "      <td>Driver &amp; Passenger</td>\n",
       "      <td>...</td>\n",
       "      <td>5</td>\n",
       "      <td>195</td>\n",
       "      <td>115</td>\n",
       "      <td>71</td>\n",
       "      <td>38</td>\n",
       "      <td>30.0</td>\n",
       "      <td>15.0</td>\n",
       "      <td>3560</td>\n",
       "      <td>non-USA</td>\n",
       "      <td>Acura Legend</td>\n",
       "    </tr>\n",
       "    <tr>\n",
       "      <th>2</th>\n",
       "      <td>3</td>\n",
       "      <td>Audi</td>\n",
       "      <td>90</td>\n",
       "      <td>Compact</td>\n",
       "      <td>25.9</td>\n",
       "      <td>29.1</td>\n",
       "      <td>32.3</td>\n",
       "      <td>20</td>\n",
       "      <td>26</td>\n",
       "      <td>Driver only</td>\n",
       "      <td>...</td>\n",
       "      <td>5</td>\n",
       "      <td>180</td>\n",
       "      <td>102</td>\n",
       "      <td>67</td>\n",
       "      <td>37</td>\n",
       "      <td>28.0</td>\n",
       "      <td>14.0</td>\n",
       "      <td>3375</td>\n",
       "      <td>non-USA</td>\n",
       "      <td>Audi 90</td>\n",
       "    </tr>\n",
       "  </tbody>\n",
       "</table>\n",
       "<p>3 rows × 28 columns</p>\n",
       "</div>"
      ],
      "text/plain": [
       "   id Manufacturer    Model     Type  Min.Price  Price  Max.Price  MPG.city  \\\n",
       "0   1        Acura  Integra    Small       12.9   15.9       18.8        25   \n",
       "1   2        Acura   Legend  Midsize       29.2   33.9       38.7        18   \n",
       "2   3         Audi       90  Compact       25.9   29.1       32.3        20   \n",
       "\n",
       "   MPG.highway             AirBags  ... Passengers Length  Wheelbase  Width  \\\n",
       "0           31                None  ...          5    177        102     68   \n",
       "1           25  Driver & Passenger  ...          5    195        115     71   \n",
       "2           26         Driver only  ...          5    180        102     67   \n",
       "\n",
       "   Turn.circle  Rear.seat.room Luggage.room  Weight   Origin           Make  \n",
       "0           37            26.5         11.0    2705  non-USA  Acura Integra  \n",
       "1           38            30.0         15.0    3560  non-USA   Acura Legend  \n",
       "2           37            28.0         14.0    3375  non-USA        Audi 90  \n",
       "\n",
       "[3 rows x 28 columns]"
      ]
     },
     "execution_count": 2,
     "metadata": {},
     "output_type": "execute_result"
    }
   ],
   "source": [
    "A = pd.read_csv(r\"C:\\Users\\Aishwarya\\OneDrive\\Desktop\\AI\\Cars93.csv\")\n",
    "A.head(3)"
   ]
  },
  {
   "cell_type": "markdown",
   "id": "cd9dc372",
   "metadata": {},
   "source": [
    "# Drop Discrete Column"
   ]
  },
  {
   "cell_type": "code",
   "execution_count": 26,
   "id": "5c57675e",
   "metadata": {},
   "outputs": [
    {
     "data": {
      "text/plain": [
       "Origin                 2\n",
       "Man.trans.avail        2\n",
       "AirBags                3\n",
       "DriveTrain             3\n",
       "Type                   6\n",
       "Cylinders              6\n",
       "Passengers             6\n",
       "Turn.circle           14\n",
       "Width                 16\n",
       "Luggage.room          17\n",
       "MPG.city              21\n",
       "MPG.highway           22\n",
       "RPM                   24\n",
       "Rear.seat.room        25\n",
       "EngineSize            26\n",
       "Wheelbase             27\n",
       "Manufacturer          32\n",
       "Fuel.tank.capacity    38\n",
       "Length                51\n",
       "Horsepower            57\n",
       "Rev.per.mile          78\n",
       "Max.Price             79\n",
       "Min.Price             79\n",
       "Price                 81\n",
       "Weight                81\n",
       "dtype: int64"
      ]
     },
     "execution_count": 26,
     "metadata": {},
     "output_type": "execute_result"
    }
   ],
   "source": [
    "A.nunique().sort_values()"
   ]
  },
  {
   "cell_type": "code",
   "execution_count": 4,
   "id": "df8d7f49",
   "metadata": {},
   "outputs": [],
   "source": [
    "A = A.drop(labels=[\"id\",\"Make\",\"Model\"],axis=1)"
   ]
  },
  {
   "cell_type": "markdown",
   "id": "de561c56",
   "metadata": {},
   "source": [
    "# Missing Data treatment"
   ]
  },
  {
   "cell_type": "code",
   "execution_count": 27,
   "id": "c052235c",
   "metadata": {},
   "outputs": [],
   "source": [
    "for i in cat:\n",
    "    x=A[i].mode()[0]\n",
    "    A[i]=A[i].fillna(x)\n",
    "for i in con:\n",
    "    x=A[i].mean()\n",
    "    A[i]=A[i].fillna(x)"
   ]
  },
  {
   "cell_type": "code",
   "execution_count": 28,
   "id": "97713f64",
   "metadata": {},
   "outputs": [
    {
     "data": {
      "text/plain": [
       "Manufacturer          0\n",
       "Type                  0\n",
       "Min.Price             0\n",
       "Price                 0\n",
       "Max.Price             0\n",
       "MPG.city              0\n",
       "MPG.highway           0\n",
       "AirBags               0\n",
       "DriveTrain            0\n",
       "Cylinders             0\n",
       "EngineSize            0\n",
       "Horsepower            0\n",
       "RPM                   0\n",
       "Rev.per.mile          0\n",
       "Man.trans.avail       0\n",
       "Fuel.tank.capacity    0\n",
       "Passengers            0\n",
       "Length                0\n",
       "Wheelbase             0\n",
       "Width                 0\n",
       "Turn.circle           0\n",
       "Rear.seat.room        0\n",
       "Luggage.room          0\n",
       "Weight                0\n",
       "Origin                0\n",
       "dtype: int64"
      ]
     },
     "execution_count": 28,
     "metadata": {},
     "output_type": "execute_result"
    }
   ],
   "source": [
    "A.isna().sum()"
   ]
  },
  {
   "cell_type": "markdown",
   "id": "6198bac0",
   "metadata": {},
   "source": [
    "# Define X and Y"
   ]
  },
  {
   "cell_type": "code",
   "execution_count": 29,
   "id": "6e17c1cc",
   "metadata": {},
   "outputs": [],
   "source": [
    "Y = A[['Origin']]\n",
    "X = A.drop(labels=[\"Origin\"],axis=1)"
   ]
  },
  {
   "attachments": {
    "image.png": {
     "image/png": "[encoded data removed]"
    }
   },
   "cell_type": "markdown",
   "id": "dfc743a6",
   "metadata": {},
   "source": [
    "!![image.png](attachment:image.png)"
   ]
  },
  {
   "cell_type": "markdown",
   "id": "28bccd59",
   "metadata": {},
   "source": [
    "# Cat Con"
   ]
  },
  {
   "cell_type": "code",
   "execution_count": 30,
   "id": "b656ff77",
   "metadata": {},
   "outputs": [],
   "source": [
    "cat = []\n",
    "con = []\n",
    "\n",
    "for i in X.columns:\n",
    "    if (X[i].dtypes == \"object\"):\n",
    "        cat.append(i)\n",
    "    else:\n",
    "        con.append(i)"
   ]
  },
  {
   "cell_type": "code",
   "execution_count": 31,
   "id": "8c707af4",
   "metadata": {},
   "outputs": [
    {
     "data": {
      "text/plain": [
       "['Manufacturer',\n",
       " 'Type',\n",
       " 'AirBags',\n",
       " 'DriveTrain',\n",
       " 'Cylinders',\n",
       " 'Man.trans.avail']"
      ]
     },
     "execution_count": 31,
     "metadata": {},
     "output_type": "execute_result"
    }
   ],
   "source": [
    "cat"
   ]
  },
  {
   "cell_type": "code",
   "execution_count": 32,
   "id": "8c3aed78",
   "metadata": {},
   "outputs": [
    {
     "data": {
      "text/plain": [
       "['Min.Price',\n",
       " 'Price',\n",
       " 'Max.Price',\n",
       " 'MPG.city',\n",
       " 'MPG.highway',\n",
       " 'EngineSize',\n",
       " 'Horsepower',\n",
       " 'RPM',\n",
       " 'Rev.per.mile',\n",
       " 'Fuel.tank.capacity',\n",
       " 'Passengers',\n",
       " 'Length',\n",
       " 'Wheelbase',\n",
       " 'Width',\n",
       " 'Turn.circle',\n",
       " 'Rear.seat.room',\n",
       " 'Luggage.room',\n",
       " 'Weight']"
      ]
     },
     "execution_count": 32,
     "metadata": {},
     "output_type": "execute_result"
    }
   ],
   "source": [
    "con"
   ]
  },
  {
   "cell_type": "code",
   "execution_count": 33,
   "id": "7df8d103",
   "metadata": {},
   "outputs": [],
   "source": [
    "X1 = pd.get_dummies(A[cat])\n",
    "from sklearn.preprocessing import MinMaxScaler\n",
    "mm = MinMaxScaler()\n",
    "X2 = pd.DataFrame(mm.fit_transform(A[con]),columns=con)\n",
    "Xnew = X2.join(X1)"
   ]
  },
  {
   "cell_type": "code",
   "execution_count": 34,
   "id": "0c34e818",
   "metadata": {},
   "outputs": [
    {
     "data": {
      "text/html": [
       "<div>\n",
       "<style scoped>\n",
       "    .dataframe tbody tr th:only-of-type {\n",
       "        vertical-align: middle;\n",
       "    }\n",
       "\n",
       "    .dataframe tbody tr th {\n",
       "        vertical-align: top;\n",
       "    }\n",
       "\n",
       "    .dataframe thead th {\n",
       "        text-align: right;\n",
       "    }\n",
       "</style>\n",
       "<table border=\"1\" class=\"dataframe\">\n",
       "  <thead>\n",
       "    <tr style=\"text-align: right;\">\n",
       "      <th></th>\n",
       "      <th>Min.Price</th>\n",
       "      <th>Price</th>\n",
       "      <th>Max.Price</th>\n",
       "      <th>MPG.city</th>\n",
       "      <th>MPG.highway</th>\n",
       "      <th>EngineSize</th>\n",
       "      <th>Horsepower</th>\n",
       "      <th>RPM</th>\n",
       "      <th>Rev.per.mile</th>\n",
       "      <th>Fuel.tank.capacity</th>\n",
       "      <th>...</th>\n",
       "      <th>DriveTrain_Front</th>\n",
       "      <th>DriveTrain_Rear</th>\n",
       "      <th>Cylinders_3</th>\n",
       "      <th>Cylinders_4</th>\n",
       "      <th>Cylinders_5</th>\n",
       "      <th>Cylinders_6</th>\n",
       "      <th>Cylinders_8</th>\n",
       "      <th>Cylinders_rotary</th>\n",
       "      <th>Man.trans.avail_No</th>\n",
       "      <th>Man.trans.avail_Yes</th>\n",
       "    </tr>\n",
       "  </thead>\n",
       "  <tbody>\n",
       "    <tr>\n",
       "      <th>0</th>\n",
       "      <td>0.160207</td>\n",
       "      <td>0.155963</td>\n",
       "      <td>0.151179</td>\n",
       "      <td>0.322581</td>\n",
       "      <td>0.366667</td>\n",
       "      <td>0.170213</td>\n",
       "      <td>0.346939</td>\n",
       "      <td>0.925926</td>\n",
       "      <td>0.644764</td>\n",
       "      <td>0.224719</td>\n",
       "      <td>...</td>\n",
       "      <td>1</td>\n",
       "      <td>0</td>\n",
       "      <td>0</td>\n",
       "      <td>1</td>\n",
       "      <td>0</td>\n",
       "      <td>0</td>\n",
       "      <td>0</td>\n",
       "      <td>0</td>\n",
       "      <td>0</td>\n",
       "      <td>1</td>\n",
       "    </tr>\n",
       "    <tr>\n",
       "      <th>1</th>\n",
       "      <td>0.581395</td>\n",
       "      <td>0.486239</td>\n",
       "      <td>0.427184</td>\n",
       "      <td>0.096774</td>\n",
       "      <td>0.166667</td>\n",
       "      <td>0.468085</td>\n",
       "      <td>0.591837</td>\n",
       "      <td>0.629630</td>\n",
       "      <td>0.416838</td>\n",
       "      <td>0.494382</td>\n",
       "      <td>...</td>\n",
       "      <td>1</td>\n",
       "      <td>0</td>\n",
       "      <td>0</td>\n",
       "      <td>0</td>\n",
       "      <td>0</td>\n",
       "      <td>1</td>\n",
       "      <td>0</td>\n",
       "      <td>0</td>\n",
       "      <td>0</td>\n",
       "      <td>1</td>\n",
       "    </tr>\n",
       "    <tr>\n",
       "      <th>2</th>\n",
       "      <td>0.496124</td>\n",
       "      <td>0.398165</td>\n",
       "      <td>0.338419</td>\n",
       "      <td>0.161290</td>\n",
       "      <td>0.200000</td>\n",
       "      <td>0.382979</td>\n",
       "      <td>0.477551</td>\n",
       "      <td>0.629630</td>\n",
       "      <td>0.394251</td>\n",
       "      <td>0.432584</td>\n",
       "      <td>...</td>\n",
       "      <td>1</td>\n",
       "      <td>0</td>\n",
       "      <td>0</td>\n",
       "      <td>0</td>\n",
       "      <td>0</td>\n",
       "      <td>1</td>\n",
       "      <td>0</td>\n",
       "      <td>0</td>\n",
       "      <td>0</td>\n",
       "      <td>1</td>\n",
       "    </tr>\n",
       "    <tr>\n",
       "      <th>3</th>\n",
       "      <td>0.622739</td>\n",
       "      <td>0.555963</td>\n",
       "      <td>0.509015</td>\n",
       "      <td>0.129032</td>\n",
       "      <td>0.200000</td>\n",
       "      <td>0.382979</td>\n",
       "      <td>0.477551</td>\n",
       "      <td>0.629630</td>\n",
       "      <td>0.498973</td>\n",
       "      <td>0.668539</td>\n",
       "      <td>...</td>\n",
       "      <td>1</td>\n",
       "      <td>0</td>\n",
       "      <td>0</td>\n",
       "      <td>0</td>\n",
       "      <td>0</td>\n",
       "      <td>1</td>\n",
       "      <td>0</td>\n",
       "      <td>0</td>\n",
       "      <td>0</td>\n",
       "      <td>1</td>\n",
       "    </tr>\n",
       "    <tr>\n",
       "      <th>4</th>\n",
       "      <td>0.439276</td>\n",
       "      <td>0.414679</td>\n",
       "      <td>0.392510</td>\n",
       "      <td>0.225806</td>\n",
       "      <td>0.333333</td>\n",
       "      <td>0.531915</td>\n",
       "      <td>0.624490</td>\n",
       "      <td>0.703704</td>\n",
       "      <td>0.503080</td>\n",
       "      <td>0.668539</td>\n",
       "      <td>...</td>\n",
       "      <td>0</td>\n",
       "      <td>1</td>\n",
       "      <td>0</td>\n",
       "      <td>1</td>\n",
       "      <td>0</td>\n",
       "      <td>0</td>\n",
       "      <td>0</td>\n",
       "      <td>0</td>\n",
       "      <td>0</td>\n",
       "      <td>1</td>\n",
       "    </tr>\n",
       "    <tr>\n",
       "      <th>...</th>\n",
       "      <td>...</td>\n",
       "      <td>...</td>\n",
       "      <td>...</td>\n",
       "      <td>...</td>\n",
       "      <td>...</td>\n",
       "      <td>...</td>\n",
       "      <td>...</td>\n",
       "      <td>...</td>\n",
       "      <td>...</td>\n",
       "      <td>...</td>\n",
       "      <td>...</td>\n",
       "      <td>...</td>\n",
       "      <td>...</td>\n",
       "      <td>...</td>\n",
       "      <td>...</td>\n",
       "      <td>...</td>\n",
       "      <td>...</td>\n",
       "      <td>...</td>\n",
       "      <td>...</td>\n",
       "      <td>...</td>\n",
       "      <td>...</td>\n",
       "    </tr>\n",
       "    <tr>\n",
       "      <th>88</th>\n",
       "      <td>0.255814</td>\n",
       "      <td>0.225688</td>\n",
       "      <td>0.205270</td>\n",
       "      <td>0.064516</td>\n",
       "      <td>0.033333</td>\n",
       "      <td>0.319149</td>\n",
       "      <td>0.220408</td>\n",
       "      <td>0.259259</td>\n",
       "      <td>0.655031</td>\n",
       "      <td>0.668539</td>\n",
       "      <td>...</td>\n",
       "      <td>1</td>\n",
       "      <td>0</td>\n",
       "      <td>0</td>\n",
       "      <td>0</td>\n",
       "      <td>1</td>\n",
       "      <td>0</td>\n",
       "      <td>0</td>\n",
       "      <td>0</td>\n",
       "      <td>0</td>\n",
       "      <td>1</td>\n",
       "    </tr>\n",
       "    <tr>\n",
       "      <th>89</th>\n",
       "      <td>0.281654</td>\n",
       "      <td>0.231193</td>\n",
       "      <td>0.201110</td>\n",
       "      <td>0.193548</td>\n",
       "      <td>0.333333</td>\n",
       "      <td>0.212766</td>\n",
       "      <td>0.322449</td>\n",
       "      <td>0.740741</td>\n",
       "      <td>0.560575</td>\n",
       "      <td>0.522472</td>\n",
       "      <td>...</td>\n",
       "      <td>1</td>\n",
       "      <td>0</td>\n",
       "      <td>0</td>\n",
       "      <td>1</td>\n",
       "      <td>0</td>\n",
       "      <td>0</td>\n",
       "      <td>0</td>\n",
       "      <td>0</td>\n",
       "      <td>0</td>\n",
       "      <td>1</td>\n",
       "    </tr>\n",
       "    <tr>\n",
       "      <th>90</th>\n",
       "      <td>0.418605</td>\n",
       "      <td>0.291743</td>\n",
       "      <td>0.219140</td>\n",
       "      <td>0.096774</td>\n",
       "      <td>0.166667</td>\n",
       "      <td>0.382979</td>\n",
       "      <td>0.502041</td>\n",
       "      <td>0.740741</td>\n",
       "      <td>0.437372</td>\n",
       "      <td>0.522472</td>\n",
       "      <td>...</td>\n",
       "      <td>1</td>\n",
       "      <td>0</td>\n",
       "      <td>0</td>\n",
       "      <td>0</td>\n",
       "      <td>0</td>\n",
       "      <td>1</td>\n",
       "      <td>0</td>\n",
       "      <td>0</td>\n",
       "      <td>0</td>\n",
       "      <td>1</td>\n",
       "    </tr>\n",
       "    <tr>\n",
       "      <th>91</th>\n",
       "      <td>0.390181</td>\n",
       "      <td>0.280734</td>\n",
       "      <td>0.216366</td>\n",
       "      <td>0.193548</td>\n",
       "      <td>0.266667</td>\n",
       "      <td>0.276596</td>\n",
       "      <td>0.240816</td>\n",
       "      <td>0.592593</td>\n",
       "      <td>0.367556</td>\n",
       "      <td>0.370787</td>\n",
       "      <td>...</td>\n",
       "      <td>0</td>\n",
       "      <td>1</td>\n",
       "      <td>0</td>\n",
       "      <td>1</td>\n",
       "      <td>0</td>\n",
       "      <td>0</td>\n",
       "      <td>0</td>\n",
       "      <td>0</td>\n",
       "      <td>0</td>\n",
       "      <td>1</td>\n",
       "    </tr>\n",
       "    <tr>\n",
       "      <th>92</th>\n",
       "      <td>0.467700</td>\n",
       "      <td>0.354128</td>\n",
       "      <td>0.285714</td>\n",
       "      <td>0.161290</td>\n",
       "      <td>0.266667</td>\n",
       "      <td>0.297872</td>\n",
       "      <td>0.461224</td>\n",
       "      <td>0.888889</td>\n",
       "      <td>0.406571</td>\n",
       "      <td>0.567416</td>\n",
       "      <td>...</td>\n",
       "      <td>1</td>\n",
       "      <td>0</td>\n",
       "      <td>0</td>\n",
       "      <td>0</td>\n",
       "      <td>1</td>\n",
       "      <td>0</td>\n",
       "      <td>0</td>\n",
       "      <td>0</td>\n",
       "      <td>0</td>\n",
       "      <td>1</td>\n",
       "    </tr>\n",
       "  </tbody>\n",
       "</table>\n",
       "<p>93 rows × 70 columns</p>\n",
       "</div>"
      ],
      "text/plain": [
       "    Min.Price     Price  Max.Price  MPG.city  MPG.highway  EngineSize  \\\n",
       "0    0.160207  0.155963   0.151179  0.322581     0.366667    0.170213   \n",
       "1    0.581395  0.486239   0.427184  0.096774     0.166667    0.468085   \n",
       "2    0.496124  0.398165   0.338419  0.161290     0.200000    0.382979   \n",
       "3    0.622739  0.555963   0.509015  0.129032     0.200000    0.382979   \n",
       "4    0.439276  0.414679   0.392510  0.225806     0.333333    0.531915   \n",
       "..        ...       ...        ...       ...          ...         ...   \n",
       "88   0.255814  0.225688   0.205270  0.064516     0.033333    0.319149   \n",
       "89   0.281654  0.231193   0.201110  0.193548     0.333333    0.212766   \n",
       "90   0.418605  0.291743   0.219140  0.096774     0.166667    0.382979   \n",
       "91   0.390181  0.280734   0.216366  0.193548     0.266667    0.276596   \n",
       "92   0.467700  0.354128   0.285714  0.161290     0.266667    0.297872   \n",
       "\n",
       "    Horsepower       RPM  Rev.per.mile  Fuel.tank.capacity  ...  \\\n",
       "0     0.346939  0.925926      0.644764            0.224719  ...   \n",
       "1     0.591837  0.629630      0.416838            0.494382  ...   \n",
       "2     0.477551  0.629630      0.394251            0.432584  ...   \n",
       "3     0.477551  0.629630      0.498973            0.668539  ...   \n",
       "4     0.624490  0.703704      0.503080            0.668539  ...   \n",
       "..         ...       ...           ...                 ...  ...   \n",
       "88    0.220408  0.259259      0.655031            0.668539  ...   \n",
       "89    0.322449  0.740741      0.560575            0.522472  ...   \n",
       "90    0.502041  0.740741      0.437372            0.522472  ...   \n",
       "91    0.240816  0.592593      0.367556            0.370787  ...   \n",
       "92    0.461224  0.888889      0.406571            0.567416  ...   \n",
       "\n",
       "    DriveTrain_Front  DriveTrain_Rear  Cylinders_3  Cylinders_4  Cylinders_5  \\\n",
       "0                  1                0            0            1            0   \n",
       "1                  1                0            0            0            0   \n",
       "2                  1                0            0            0            0   \n",
       "3                  1                0            0            0            0   \n",
       "4                  0                1            0            1            0   \n",
       "..               ...              ...          ...          ...          ...   \n",
       "88                 1                0            0            0            1   \n",
       "89                 1                0            0            1            0   \n",
       "90                 1                0            0            0            0   \n",
       "91                 0                1            0            1            0   \n",
       "92                 1                0            0            0            1   \n",
       "\n",
       "    Cylinders_6  Cylinders_8  Cylinders_rotary  Man.trans.avail_No  \\\n",
       "0             0            0                 0                   0   \n",
       "1             1            0                 0                   0   \n",
       "2             1            0                 0                   0   \n",
       "3             1            0                 0                   0   \n",
       "4             0            0                 0                   0   \n",
       "..          ...          ...               ...                 ...   \n",
       "88            0            0                 0                   0   \n",
       "89            0            0                 0                   0   \n",
       "90            1            0                 0                   0   \n",
       "91            0            0                 0                   0   \n",
       "92            0            0                 0                   0   \n",
       "\n",
       "    Man.trans.avail_Yes  \n",
       "0                     1  \n",
       "1                     1  \n",
       "2                     1  \n",
       "3                     1  \n",
       "4                     1  \n",
       "..                  ...  \n",
       "88                    1  \n",
       "89                    1  \n",
       "90                    1  \n",
       "91                    1  \n",
       "92                    1  \n",
       "\n",
       "[93 rows x 70 columns]"
      ]
     },
     "execution_count": 34,
     "metadata": {},
     "output_type": "execute_result"
    }
   ],
   "source": [
    "Xnew"
   ]
  },
  {
   "cell_type": "code",
   "execution_count": 35,
   "id": "4600d321",
   "metadata": {},
   "outputs": [],
   "source": [
    "from sklearn.preprocessing import LabelEncoder\n",
    "le = LabelEncoder()\n",
    "Ynew = le.fit_transform(Y[['Origin']])"
   ]
  },
  {
   "cell_type": "markdown",
   "id": "2b1e7ff1",
   "metadata": {},
   "source": [
    "~~~\n",
    "Variation 1: ---------------- We split the data in training and\n",
    "    testing set Variation 2: ---------------- Keras will split data for us.\n",
    "~~~"
   ]
  },
  {
   "cell_type": "markdown",
   "id": "53ba3591",
   "metadata": {},
   "source": [
    "# Train Test Split"
   ]
  },
  {
   "cell_type": "code",
   "execution_count": 37,
   "id": "63fab2d8",
   "metadata": {},
   "outputs": [],
   "source": [
    "from sklearn.model_selection import train_test_split\n",
    "xtrain , xtest , ytrain , ytest = train_test_split(Xnew , Ynew , test_size= 0.2 , random_state= 21)"
   ]
  },
  {
   "cell_type": "markdown",
   "id": "029d8a3b",
   "metadata": {},
   "source": [
    "# Neural Networks"
   ]
  },
  {
   "cell_type": "code",
   "execution_count": 38,
   "id": "fb59d9e1",
   "metadata": {},
   "outputs": [],
   "source": [
    "from keras.models import Sequential     # model\n",
    "from keras.layers import Dense          # dense states that every neuron is connected to each other\n",
    "\n",
    "nn = Sequential()\n",
    "nn.add(Dense(32,input_dim = len(Xnew.columns)))   # input layer\n",
    "nn.add(Dense(100))                             # hidden layer\n",
    "nn.add(Dense(1, activation= \"sigmoid\"))        # output layer"
   ]
  },
  {
   "cell_type": "code",
   "execution_count": 39,
   "id": "19dc99db",
   "metadata": {},
   "outputs": [
    {
     "name": "stdout",
     "output_type": "stream",
     "text": [
      "Epoch 1/15\n",
      "3/3 [==============================] - 2s 235ms/step - loss: 0.6968 - accuracy: 0.5811 - val_loss: 0.7799 - val_accuracy: 0.4211\n",
      "Epoch 2/15\n",
      "3/3 [==============================] - 0s 39ms/step - loss: 0.6184 - accuracy: 0.6081 - val_loss: 0.6250 - val_accuracy: 0.5789\n",
      "Epoch 3/15\n",
      "3/3 [==============================] - 0s 35ms/step - loss: 0.5808 - accuracy: 0.7432 - val_loss: 0.7292 - val_accuracy: 0.4737\n",
      "Epoch 4/15\n",
      "3/3 [==============================] - 0s 32ms/step - loss: 0.5444 - accuracy: 0.7297 - val_loss: 0.7904 - val_accuracy: 0.4211\n",
      "Epoch 5/15\n",
      "3/3 [==============================] - 0s 34ms/step - loss: 0.5239 - accuracy: 0.7297 - val_loss: 0.6330 - val_accuracy: 0.4737\n",
      "Epoch 6/15\n",
      "3/3 [==============================] - 0s 34ms/step - loss: 0.4963 - accuracy: 0.7703 - val_loss: 0.6860 - val_accuracy: 0.5789\n",
      "Epoch 7/15\n",
      "3/3 [==============================] - 0s 34ms/step - loss: 0.4755 - accuracy: 0.7838 - val_loss: 0.7423 - val_accuracy: 0.5263\n",
      "Epoch 8/15\n",
      "3/3 [==============================] - 0s 32ms/step - loss: 0.4555 - accuracy: 0.8108 - val_loss: 0.6969 - val_accuracy: 0.5263\n",
      "Epoch 9/15\n",
      "3/3 [==============================] - 0s 33ms/step - loss: 0.4362 - accuracy: 0.8108 - val_loss: 0.6193 - val_accuracy: 0.6842\n",
      "Epoch 10/15\n",
      "3/3 [==============================] - 0s 33ms/step - loss: 0.4124 - accuracy: 0.8378 - val_loss: 0.6181 - val_accuracy: 0.6842\n",
      "Epoch 11/15\n",
      "3/3 [==============================] - 0s 31ms/step - loss: 0.3900 - accuracy: 0.8649 - val_loss: 0.5313 - val_accuracy: 0.7895\n",
      "Epoch 12/15\n",
      "3/3 [==============================] - 0s 34ms/step - loss: 0.3695 - accuracy: 0.8649 - val_loss: 0.5901 - val_accuracy: 0.6316\n",
      "Epoch 13/15\n",
      "3/3 [==============================] - 0s 32ms/step - loss: 0.3461 - accuracy: 0.8649 - val_loss: 0.6341 - val_accuracy: 0.6842\n",
      "Epoch 14/15\n",
      "3/3 [==============================] - 0s 33ms/step - loss: 0.3245 - accuracy: 0.8919 - val_loss: 0.6238 - val_accuracy: 0.6842\n",
      "Epoch 15/15\n",
      "3/3 [==============================] - 0s 31ms/step - loss: 0.3043 - accuracy: 0.9054 - val_loss: 0.6191 - val_accuracy: 0.6842\n"
     ]
    }
   ],
   "source": [
    "nn.compile(loss = \"binary_crossentropy\", metrics=[\"accuracy\"])\n",
    "model = nn.fit(Xnew , Ynew , validation_split= 0.2, epochs=15)"
   ]
  },
  {
   "cell_type": "markdown",
   "id": "0dd03e1b",
   "metadata": {},
   "source": [
    "# Plot Results"
   ]
  },
  {
   "cell_type": "code",
   "execution_count": 40,
   "id": "6d152d22",
   "metadata": {},
   "outputs": [
    {
     "data": {
      "text/plain": [
       "{'loss': [0.6967949867248535,\n",
       "  0.6183846592903137,\n",
       "  0.5807660222053528,\n",
       "  0.544409990310669,\n",
       "  0.5238615274429321,\n",
       "  0.4963030517101288,\n",
       "  0.4754773676395416,\n",
       "  0.45554110407829285,\n",
       "  0.4361904263496399,\n",
       "  0.41237300634384155,\n",
       "  0.38997167348861694,\n",
       "  0.36951547861099243,\n",
       "  0.3461052179336548,\n",
       "  0.3245134949684143,\n",
       "  0.30428630113601685],\n",
       " 'accuracy': [0.5810810923576355,\n",
       "  0.6081081032752991,\n",
       "  0.7432432174682617,\n",
       "  0.7297297120094299,\n",
       "  0.7297297120094299,\n",
       "  0.7702702879905701,\n",
       "  0.7837837934494019,\n",
       "  0.8108108043670654,\n",
       "  0.8108108043670654,\n",
       "  0.837837815284729,\n",
       "  0.8648648858070374,\n",
       "  0.8648648858070374,\n",
       "  0.8648648858070374,\n",
       "  0.8918918967247009,\n",
       "  0.9054054021835327],\n",
       " 'val_loss': [0.7799135446548462,\n",
       "  0.6250337362289429,\n",
       "  0.7292454242706299,\n",
       "  0.7904457449913025,\n",
       "  0.6330380439758301,\n",
       "  0.6859829425811768,\n",
       "  0.7423344850540161,\n",
       "  0.6968970894813538,\n",
       "  0.6193446516990662,\n",
       "  0.6180559396743774,\n",
       "  0.5312711000442505,\n",
       "  0.5900943279266357,\n",
       "  0.6341443657875061,\n",
       "  0.6238450407981873,\n",
       "  0.6190590858459473],\n",
       " 'val_accuracy': [0.42105263471603394,\n",
       "  0.5789473652839661,\n",
       "  0.4736842215061188,\n",
       "  0.42105263471603394,\n",
       "  0.4736842215061188,\n",
       "  0.5789473652839661,\n",
       "  0.5263158082962036,\n",
       "  0.5263158082962036,\n",
       "  0.6842105388641357,\n",
       "  0.6842105388641357,\n",
       "  0.7894737124443054,\n",
       "  0.6315789222717285,\n",
       "  0.6842105388641357,\n",
       "  0.6842105388641357,\n",
       "  0.6842105388641357]}"
      ]
     },
     "execution_count": 40,
     "metadata": {},
     "output_type": "execute_result"
    }
   ],
   "source": [
    "model.history"
   ]
  },
  {
   "cell_type": "code",
   "execution_count": 41,
   "id": "46ef502a",
   "metadata": {},
   "outputs": [],
   "source": [
    "tr_acc = model.history[\"accuracy\"]\n",
    "ts_acc = model.history[\"val_accuracy\"]"
   ]
  },
  {
   "cell_type": "code",
   "execution_count": 42,
   "id": "b4e0eaf5",
   "metadata": {},
   "outputs": [
    {
     "data": {
      "text/plain": [
       "[<matplotlib.lines.Line2D at 0x20a5aefacd0>]"
      ]
     },
     "execution_count": 42,
     "metadata": {},
     "output_type": "execute_result"
    },
    {
     "data": {
      "image/png": "[encoded data removed]",
      "text/plain": [
       "<Figure size 432x288 with 1 Axes>"
      ]
     },
     "metadata": {
      "needs_background": "light"
     },
     "output_type": "display_data"
    }
   ],
   "source": [
    "import matplotlib.pyplot as plt\n",
    "plt.plot(tr_acc)\n",
    "plt.plot(ts_acc)"
   ]
  },
  {
   "cell_type": "code",
   "execution_count": 43,
   "id": "563c387c",
   "metadata": {},
   "outputs": [
    {
     "name": "stdout",
     "output_type": "stream",
     "text": [
      "Epoch 1/30\n",
      "4/4 [==============================] - 1s 131ms/step - loss: 0.3100 - accuracy: 0.8919 - val_loss: 0.6659 - val_accuracy: 0.5789\n",
      "Epoch 2/30\n",
      "4/4 [==============================] - 0s 25ms/step - loss: 0.2366 - accuracy: 0.9459 - val_loss: 0.5309 - val_accuracy: 0.8421\n",
      "Epoch 3/30\n",
      "4/4 [==============================] - 0s 25ms/step - loss: 0.2126 - accuracy: 0.9459 - val_loss: 0.4963 - val_accuracy: 0.8421\n",
      "Epoch 4/30\n",
      "4/4 [==============================] - 0s 26ms/step - loss: 0.1846 - accuracy: 0.9459 - val_loss: 0.5849 - val_accuracy: 0.6842\n",
      "Epoch 5/30\n",
      "4/4 [==============================] - 0s 22ms/step - loss: 0.1671 - accuracy: 0.9730 - val_loss: 0.5366 - val_accuracy: 0.7368\n",
      "Epoch 6/30\n",
      "4/4 [==============================] - 0s 23ms/step - loss: 0.1462 - accuracy: 0.9865 - val_loss: 0.6071 - val_accuracy: 0.5789\n",
      "Epoch 7/30\n",
      "4/4 [==============================] - 0s 24ms/step - loss: 0.1363 - accuracy: 0.9730 - val_loss: 0.6318 - val_accuracy: 0.5789\n",
      "Epoch 8/30\n",
      "4/4 [==============================] - 0s 24ms/step - loss: 0.1191 - accuracy: 0.9865 - val_loss: 0.5530 - val_accuracy: 0.6316\n",
      "Epoch 9/30\n",
      "4/4 [==============================] - 0s 23ms/step - loss: 0.1096 - accuracy: 1.0000 - val_loss: 0.6047 - val_accuracy: 0.6316\n",
      "Epoch 10/30\n",
      "4/4 [==============================] - 0s 23ms/step - loss: 0.0970 - accuracy: 1.0000 - val_loss: 0.6782 - val_accuracy: 0.5789\n",
      "Epoch 11/30\n",
      "4/4 [==============================] - 0s 24ms/step - loss: 0.0841 - accuracy: 1.0000 - val_loss: 0.5452 - val_accuracy: 0.6316\n",
      "Epoch 12/30\n",
      "4/4 [==============================] - 0s 22ms/step - loss: 0.0720 - accuracy: 1.0000 - val_loss: 0.4491 - val_accuracy: 0.7368\n",
      "Epoch 13/30\n",
      "4/4 [==============================] - 0s 23ms/step - loss: 0.0644 - accuracy: 1.0000 - val_loss: 0.4510 - val_accuracy: 0.7368\n",
      "Epoch 14/30\n",
      "4/4 [==============================] - 0s 22ms/step - loss: 0.0591 - accuracy: 1.0000 - val_loss: 0.3947 - val_accuracy: 0.8421\n",
      "Epoch 15/30\n",
      "4/4 [==============================] - 0s 24ms/step - loss: 0.0486 - accuracy: 1.0000 - val_loss: 0.6066 - val_accuracy: 0.6316\n",
      "Epoch 16/30\n",
      "4/4 [==============================] - 0s 22ms/step - loss: 0.0421 - accuracy: 1.0000 - val_loss: 0.4780 - val_accuracy: 0.6842\n",
      "Epoch 17/30\n",
      "4/4 [==============================] - 0s 22ms/step - loss: 0.0372 - accuracy: 1.0000 - val_loss: 0.3925 - val_accuracy: 0.8421\n",
      "Epoch 18/30\n",
      "4/4 [==============================] - 0s 22ms/step - loss: 0.0349 - accuracy: 1.0000 - val_loss: 0.3900 - val_accuracy: 0.8421\n",
      "Epoch 19/30\n",
      "4/4 [==============================] - 0s 23ms/step - loss: 0.0300 - accuracy: 1.0000 - val_loss: 0.4894 - val_accuracy: 0.6842\n",
      "Epoch 20/30\n",
      "4/4 [==============================] - 0s 22ms/step - loss: 0.0236 - accuracy: 1.0000 - val_loss: 0.4123 - val_accuracy: 0.7895\n",
      "Epoch 21/30\n",
      "4/4 [==============================] - 0s 23ms/step - loss: 0.0205 - accuracy: 1.0000 - val_loss: 0.4830 - val_accuracy: 0.7368\n",
      "Epoch 22/30\n",
      "4/4 [==============================] - 0s 24ms/step - loss: 0.0192 - accuracy: 1.0000 - val_loss: 0.3203 - val_accuracy: 0.8421\n",
      "Epoch 23/30\n",
      "4/4 [==============================] - 0s 24ms/step - loss: 0.0159 - accuracy: 1.0000 - val_loss: 0.3138 - val_accuracy: 0.8421\n",
      "Epoch 24/30\n",
      "4/4 [==============================] - 0s 25ms/step - loss: 0.0134 - accuracy: 1.0000 - val_loss: 0.3480 - val_accuracy: 0.8421\n",
      "Epoch 25/30\n",
      "4/4 [==============================] - 0s 26ms/step - loss: 0.0107 - accuracy: 1.0000 - val_loss: 0.4382 - val_accuracy: 0.7895\n",
      "Epoch 26/30\n",
      "4/4 [==============================] - 0s 24ms/step - loss: 0.0093 - accuracy: 1.0000 - val_loss: 0.4365 - val_accuracy: 0.7895\n",
      "Epoch 27/30\n",
      "4/4 [==============================] - 0s 22ms/step - loss: 0.0079 - accuracy: 1.0000 - val_loss: 0.2839 - val_accuracy: 0.8947\n",
      "Epoch 28/30\n",
      "4/4 [==============================] - 0s 24ms/step - loss: 0.0072 - accuracy: 1.0000 - val_loss: 0.5110 - val_accuracy: 0.6842\n",
      "Epoch 29/30\n",
      "4/4 [==============================] - 0s 22ms/step - loss: 0.0067 - accuracy: 1.0000 - val_loss: 0.4176 - val_accuracy: 0.7895\n",
      "Epoch 30/30\n",
      "4/4 [==============================] - 0s 24ms/step - loss: 0.0050 - accuracy: 1.0000 - val_loss: 0.4426 - val_accuracy: 0.7895\n"
     ]
    }
   ],
   "source": [
    "nn.compile(loss=\"binary_crossentropy\",metrics=[\"accuracy\"])\n",
    "model1 = nn.fit(Xnew,Ynew,validation_split=0.2,epochs=30,batch_size=20)"
   ]
  },
  {
   "cell_type": "code",
   "execution_count": 44,
   "id": "2e61fd91",
   "metadata": {},
   "outputs": [],
   "source": [
    "tr_acc = model1.history[\"accuracy\"]\n",
    "ts_acc = model1.history[\"val_accuracy\"]"
   ]
  },
  {
   "cell_type": "code",
   "execution_count": 45,
   "id": "ffa80a49",
   "metadata": {},
   "outputs": [
    {
     "data": {
      "text/plain": [
       "[<matplotlib.lines.Line2D at 0x20a5e1422b0>]"
      ]
     },
     "execution_count": 45,
     "metadata": {},
     "output_type": "execute_result"
    },
    {
     "data": {
      "image/png": "[encoded data removed]",
      "text/plain": [
       "<Figure size 432x288 with 1 Axes>"
      ]
     },
     "metadata": {
      "needs_background": "light"
     },
     "output_type": "display_data"
    }
   ],
   "source": [
    "plt.plot(tr_acc)\n",
    "plt.plot(ts_acc)"
   ]
  },
  {
   "cell_type": "markdown",
   "id": "593ee5da",
   "metadata": {},
   "source": [
    "#### for Epochh 7 we got Training Acc of : 0.9865 and Testing_accuracy: 0.9474"
   ]
  },
  {
   "cell_type": "code",
   "execution_count": 46,
   "id": "8314296c",
   "metadata": {},
   "outputs": [
    {
     "name": "stdout",
     "output_type": "stream",
     "text": [
      "3/3 [==============================] - 0s 4ms/step\n"
     ]
    }
   ],
   "source": [
    "pred =nn.predict(Xnew)"
   ]
  },
  {
   "cell_type": "code",
   "execution_count": 47,
   "id": "a901f3fe",
   "metadata": {},
   "outputs": [
    {
     "name": "stdout",
     "output_type": "stream",
     "text": [
      "3/3 [==============================] - 0s 3ms/step\n"
     ]
    }
   ],
   "source": [
    "Q = []\n",
    "for i in nn.predict(Xnew):\n",
    "    if(i[0]<0.5):\n",
    "        Q.append(0)\n",
    "    else:\n",
    "        Q.append(1)"
   ]
  },
  {
   "cell_type": "code",
   "execution_count": 49,
   "id": "4eee80c2",
   "metadata": {},
   "outputs": [],
   "source": [
    "A[\"Origin_pred\"] = le.inverse_transform(Q)         # transforming Y to its original form"
   ]
  },
  {
   "cell_type": "code",
   "execution_count": 50,
   "id": "aa451998",
   "metadata": {},
   "outputs": [
    {
     "data": {
      "text/html": [
       "<div>\n",
       "<style scoped>\n",
       "    .dataframe tbody tr th:only-of-type {\n",
       "        vertical-align: middle;\n",
       "    }\n",
       "\n",
       "    .dataframe tbody tr th {\n",
       "        vertical-align: top;\n",
       "    }\n",
       "\n",
       "    .dataframe thead th {\n",
       "        text-align: right;\n",
       "    }\n",
       "</style>\n",
       "<table border=\"1\" class=\"dataframe\">\n",
       "  <thead>\n",
       "    <tr style=\"text-align: right;\">\n",
       "      <th></th>\n",
       "      <th>Origin_pred</th>\n",
       "    </tr>\n",
       "  </thead>\n",
       "  <tbody>\n",
       "    <tr>\n",
       "      <th>0</th>\n",
       "      <td>non-USA</td>\n",
       "    </tr>\n",
       "    <tr>\n",
       "      <th>1</th>\n",
       "      <td>non-USA</td>\n",
       "    </tr>\n",
       "    <tr>\n",
       "      <th>2</th>\n",
       "      <td>non-USA</td>\n",
       "    </tr>\n",
       "    <tr>\n",
       "      <th>3</th>\n",
       "      <td>non-USA</td>\n",
       "    </tr>\n",
       "    <tr>\n",
       "      <th>4</th>\n",
       "      <td>non-USA</td>\n",
       "    </tr>\n",
       "    <tr>\n",
       "      <th>5</th>\n",
       "      <td>USA</td>\n",
       "    </tr>\n",
       "    <tr>\n",
       "      <th>6</th>\n",
       "      <td>USA</td>\n",
       "    </tr>\n",
       "    <tr>\n",
       "      <th>7</th>\n",
       "      <td>USA</td>\n",
       "    </tr>\n",
       "    <tr>\n",
       "      <th>8</th>\n",
       "      <td>USA</td>\n",
       "    </tr>\n",
       "    <tr>\n",
       "      <th>9</th>\n",
       "      <td>USA</td>\n",
       "    </tr>\n",
       "    <tr>\n",
       "      <th>10</th>\n",
       "      <td>USA</td>\n",
       "    </tr>\n",
       "    <tr>\n",
       "      <th>11</th>\n",
       "      <td>USA</td>\n",
       "    </tr>\n",
       "    <tr>\n",
       "      <th>12</th>\n",
       "      <td>USA</td>\n",
       "    </tr>\n",
       "    <tr>\n",
       "      <th>13</th>\n",
       "      <td>USA</td>\n",
       "    </tr>\n",
       "    <tr>\n",
       "      <th>14</th>\n",
       "      <td>USA</td>\n",
       "    </tr>\n",
       "  </tbody>\n",
       "</table>\n",
       "</div>"
      ],
      "text/plain": [
       "   Origin_pred\n",
       "0      non-USA\n",
       "1      non-USA\n",
       "2      non-USA\n",
       "3      non-USA\n",
       "4      non-USA\n",
       "5          USA\n",
       "6          USA\n",
       "7          USA\n",
       "8          USA\n",
       "9          USA\n",
       "10         USA\n",
       "11         USA\n",
       "12         USA\n",
       "13         USA\n",
       "14         USA"
      ]
     },
     "execution_count": 50,
     "metadata": {},
     "output_type": "execute_result"
    }
   ],
   "source": [
    "A[[\"Origin_pred\"]].head(15)        # this is our final predicted Origin of Cars"
   ]
  },
  {
   "cell_type": "code",
   "execution_count": 51,
   "id": "6132ed21",
   "metadata": {},
   "outputs": [
    {
     "data": {
      "text/html": [
       "<div>\n",
       "<style scoped>\n",
       "    .dataframe tbody tr th:only-of-type {\n",
       "        vertical-align: middle;\n",
       "    }\n",
       "\n",
       "    .dataframe tbody tr th {\n",
       "        vertical-align: top;\n",
       "    }\n",
       "\n",
       "    .dataframe thead th {\n",
       "        text-align: right;\n",
       "    }\n",
       "</style>\n",
       "<table border=\"1\" class=\"dataframe\">\n",
       "  <thead>\n",
       "    <tr style=\"text-align: right;\">\n",
       "      <th></th>\n",
       "      <th>Origin</th>\n",
       "    </tr>\n",
       "  </thead>\n",
       "  <tbody>\n",
       "    <tr>\n",
       "      <th>0</th>\n",
       "      <td>non-USA</td>\n",
       "    </tr>\n",
       "    <tr>\n",
       "      <th>1</th>\n",
       "      <td>non-USA</td>\n",
       "    </tr>\n",
       "    <tr>\n",
       "      <th>2</th>\n",
       "      <td>non-USA</td>\n",
       "    </tr>\n",
       "    <tr>\n",
       "      <th>3</th>\n",
       "      <td>non-USA</td>\n",
       "    </tr>\n",
       "    <tr>\n",
       "      <th>4</th>\n",
       "      <td>non-USA</td>\n",
       "    </tr>\n",
       "    <tr>\n",
       "      <th>5</th>\n",
       "      <td>USA</td>\n",
       "    </tr>\n",
       "    <tr>\n",
       "      <th>6</th>\n",
       "      <td>USA</td>\n",
       "    </tr>\n",
       "    <tr>\n",
       "      <th>7</th>\n",
       "      <td>USA</td>\n",
       "    </tr>\n",
       "    <tr>\n",
       "      <th>8</th>\n",
       "      <td>USA</td>\n",
       "    </tr>\n",
       "    <tr>\n",
       "      <th>9</th>\n",
       "      <td>USA</td>\n",
       "    </tr>\n",
       "    <tr>\n",
       "      <th>10</th>\n",
       "      <td>USA</td>\n",
       "    </tr>\n",
       "    <tr>\n",
       "      <th>11</th>\n",
       "      <td>USA</td>\n",
       "    </tr>\n",
       "    <tr>\n",
       "      <th>12</th>\n",
       "      <td>USA</td>\n",
       "    </tr>\n",
       "    <tr>\n",
       "      <th>13</th>\n",
       "      <td>USA</td>\n",
       "    </tr>\n",
       "    <tr>\n",
       "      <th>14</th>\n",
       "      <td>USA</td>\n",
       "    </tr>\n",
       "  </tbody>\n",
       "</table>\n",
       "</div>"
      ],
      "text/plain": [
       "     Origin\n",
       "0   non-USA\n",
       "1   non-USA\n",
       "2   non-USA\n",
       "3   non-USA\n",
       "4   non-USA\n",
       "5       USA\n",
       "6       USA\n",
       "7       USA\n",
       "8       USA\n",
       "9       USA\n",
       "10      USA\n",
       "11      USA\n",
       "12      USA\n",
       "13      USA\n",
       "14      USA"
      ]
     },
     "execution_count": 51,
     "metadata": {},
     "output_type": "execute_result"
    }
   ],
   "source": [
    "A[[\"Origin\"]].head(15)"
   ]
  },
  {
   "cell_type": "code",
   "execution_count": null,
   "id": "94993cf1",
   "metadata": {},
   "outputs": [],
   "source": []
  }
 ],
 "metadata": {
  "kernelspec": {
   "display_name": "Python 3 (ipykernel)",
   "language": "python",
   "name": "python3"
  },
  "language_info": {
   "codemirror_mode": {
    "name": "ipython",
    "version": 3
   },
   "file_extension": ".py",
   "mimetype": "text/x-python",
   "name": "python",
   "nbconvert_exporter": "python",
   "pygments_lexer": "ipython3",
   "version": "3.9.12"
  }
 },
 "nbformat": 4,
 "nbformat_minor": 5
}
